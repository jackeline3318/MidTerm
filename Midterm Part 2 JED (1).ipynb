{
 "cells": [
  {
   "cell_type": "code",
   "execution_count": 1,
   "id": "9b067aea",
   "metadata": {},
   "outputs": [],
   "source": [
    "import pandas as pd"
   ]
  },
  {
   "cell_type": "code",
   "execution_count": 2,
   "id": "c8f5a28d",
   "metadata": {},
   "outputs": [],
   "source": [
    "df = pd.read_csv(r\"C:\\Users\\gisse\\OneDrive\\Documents\\Data For Austin .csv\")"
   ]
  },
  {
   "cell_type": "code",
   "execution_count": 6,
   "id": "b640935c",
   "metadata": {},
   "outputs": [
    {
     "data": {
      "text/plain": [
       "Index(['Year ', 'Homeschooling Withdawals', 'Crimes'], dtype='object')"
      ]
     },
     "execution_count": 6,
     "metadata": {},
     "output_type": "execute_result"
    }
   ],
   "source": [
    "df.columns"
   ]
  },
  {
   "cell_type": "code",
   "execution_count": 8,
   "id": "f53bf73b",
   "metadata": {},
   "outputs": [
    {
     "name": "stdout",
     "output_type": "stream",
     "text": [
      "Correlation between Homeschooling Withdrawals and Crimes: -0.8761335005025317\n"
     ]
    }
   ],
   "source": [
    "correlation = df['Homeschooling Withdawals'].corr(df['Crimes'])\n",
    "print(\"Correlation between Homeschooling Withdrawals and Crimes:\", correlation)"
   ]
  },
  {
   "cell_type": "code",
   "execution_count": 12,
   "id": "153bfb11",
   "metadata": {},
   "outputs": [
    {
     "name": "stdout",
     "output_type": "stream",
     "text": [
      "The correlation between them is a strong negative correlation, the move opposite from each other, so they go in opposite directions, so I would not say they exactly are coordelated.\n"
     ]
    }
   ],
   "source": [
    "print (\"The correlation between them is a strong negative correlation, the move opposite from each other, so they go in opposite directions, so I would not say they exactly are coordelated.\")"
   ]
  },
  {
   "cell_type": "code",
   "execution_count": null,
   "id": "3bb573cd",
   "metadata": {},
   "outputs": [],
   "source": []
  }
 ],
 "metadata": {
  "kernelspec": {
   "display_name": "Python 3 (ipykernel)",
   "language": "python",
   "name": "python3"
  },
  "language_info": {
   "codemirror_mode": {
    "name": "ipython",
    "version": 3
   },
   "file_extension": ".py",
   "mimetype": "text/x-python",
   "name": "python",
   "nbconvert_exporter": "python",
   "pygments_lexer": "ipython3",
   "version": "3.11.4"
  }
 },
 "nbformat": 4,
 "nbformat_minor": 5
}
